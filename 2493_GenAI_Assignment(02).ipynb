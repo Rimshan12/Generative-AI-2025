{
  "nbformat": 4,
  "nbformat_minor": 0,
  "metadata": {
    "colab": {
      "provenance": [],
      "authorship_tag": "ABX9TyPCwvF35jXujS574+Pj4I9A",
      "include_colab_link": true
    },
    "kernelspec": {
      "name": "python3",
      "display_name": "Python 3"
    },
    "language_info": {
      "name": "python"
    }
  },
  "cells": [
    {
      "cell_type": "markdown",
      "metadata": {
        "id": "view-in-github",
        "colab_type": "text"
      },
      "source": [
        "<a href=\"https://colab.research.google.com/github/Rimshan12/Generative-AI-2025/blob/main/2493_GenAI_Assignment(02).ipynb\" target=\"_parent\"><img src=\"https://colab.research.google.com/assets/colab-badge.svg\" alt=\"Open In Colab\"/></a>"
      ]
    },
    {
      "source": [
        "from scipy.optimize import linprog\n",
        "profit_coeffs = [-6, -5]\n",
        "\n",
        "constraints = [\n",
        "    [1, 1],\n",
        "    [3, 2],\n",
        "]\n",
        "\n",
        "rhs = [5, 12]\n",
        "\n",
        "bounds = [(0, None), (0, None)]\n",
        "\n",
        "result = linprog(c=profit_coeffs, A_ub=constraints, b_ub=rhs, bounds=bounds, method='highs')\n",
        "print(\"Chocolate Manufacturing\")\n",
        "\n",
        "if result.success:\n",
        "    print(\"Optimal solution found:\")\n",
        "    print(f\"Units of A to produce: {result.x[0]:.2f}\")\n",
        "    print(f\"Units of B to produce: {result.x[1]:.2f}\")\n",
        "    print(f\"Maximum profit: Rs {abs(result.fun):.2f}\")\n",
        "else:\n",
        "    print(\"No optimal solution found.\")"
      ],
      "cell_type": "code",
      "metadata": {
        "colab": {
          "base_uri": "https://localhost:8080/"
        },
        "id": "y7jHXH8Jo2oa",
        "outputId": "2398c7e3-1c7e-43de-df31-7ba4e74bfeb8"
      },
      "execution_count": 9,
      "outputs": [
        {
          "output_type": "stream",
          "name": "stdout",
          "text": [
            "Chocolate Manufacturing\n",
            "Optimal solution found:\n",
            "Units of A to produce: 2.00\n",
            "Units of B to produce: 3.00\n",
            "Maximum profit: Rs 27.00\n"
          ]
        }
      ]
    },
    {
      "source": [
        "from scipy.optimize import linprog\n",
        "\n",
        "profit_coeffs = [-50, -120]\n",
        "\n",
        "constraints = [\n",
        "    [7000, 2000],\n",
        "    [10, 30],\n",
        "    [1, 1],\n",
        "]\n",
        "\n",
        "rhs = [700000, 1200, 110]\n",
        "\n",
        "bounds = [(0, None), (0, None)]\n",
        "\n",
        "result = linprog(c=profit_coeffs, A_ub=constraints, b_ub=rhs, bounds=bounds, method='highs')\n",
        "print(\"Farming Optimization\")\n",
        "\n",
        "if result.success:\n",
        "    print(\"Optimal solution found:\")\n",
        "    print(f\"Hectares of Wheat to grow: {result.x[0]:.2f}\")\n",
        "    print(f\"Hectares of Barley to grow: {result.x[1]:.2f}\")\n",
        "    print(f\"Maximum profit: Rs {abs(result.fun):.2f}\")\n",
        "else:\n",
        "    print(\"No optimal solution found.\")"
      ],
      "cell_type": "code",
      "metadata": {
        "colab": {
          "base_uri": "https://localhost:8080/"
        },
        "id": "wIdP7LRwpiUf",
        "outputId": "0f440ba3-5d3f-480a-8246-6e0158a72c83"
      },
      "execution_count": 10,
      "outputs": [
        {
          "output_type": "stream",
          "name": "stdout",
          "text": [
            "Farming Optimization\n",
            "Optimal solution found:\n",
            "Hectares of Wheat to grow: 97.89\n",
            "Hectares of Barley to grow: 7.37\n",
            "Maximum profit: Rs 5778.95\n"
          ]
        }
      ]
    }
  ]
}