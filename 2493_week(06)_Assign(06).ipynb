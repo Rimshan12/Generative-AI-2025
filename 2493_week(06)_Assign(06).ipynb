{
  "nbformat": 4,
  "nbformat_minor": 0,
  "metadata": {
    "colab": {
      "provenance": [],
      "include_colab_link": true
    },
    "kernelspec": {
      "name": "python3",
      "display_name": "Python 3"
    },
    "language_info": {
      "name": "python"
    }
  },
  "cells": [
    {
      "cell_type": "markdown",
      "metadata": {
        "id": "view-in-github",
        "colab_type": "text"
      },
      "source": [
        "<a href=\"https://colab.research.google.com/github/Rimshan12/Generative-AI-2025/blob/main/2493_week(06)_Assign(06).ipynb\" target=\"_parent\"><img src=\"https://colab.research.google.com/assets/colab-badge.svg\" alt=\"Open In Colab\"/></a>"
      ]
    },
    {
      "cell_type": "code",
      "execution_count": null,
      "metadata": {
        "colab": {
          "base_uri": "https://localhost:8080/"
        },
        "id": "YBffUjVi_yc1",
        "outputId": "a192a9c6-05b1-420e-c5ea-a0c08134fe89"
      },
      "outputs": [
        {
          "output_type": "stream",
          "name": "stdout",
          "text": [
            "Epoch 0, MSE: 2.887472\n",
            "Epoch 100, MSE: 0.004544\n",
            "Epoch 200, MSE: 0.004494\n",
            "Epoch 300, MSE: 0.004456\n",
            "Epoch 400, MSE: 0.004425\n",
            "Epoch 500, MSE: 0.004399\n",
            "Epoch 600, MSE: 0.004378\n",
            "Epoch 700, MSE: 0.004360\n",
            "Epoch 800, MSE: 0.004345\n"
          ]
        },
        {
          "output_type": "stream",
          "name": "stderr",
          "text": [
            "<ipython-input-1-6b75fdffe5e8>:4: RuntimeWarning: overflow encountered in exp\n",
            "  return 1 / (1 + np.exp(-x))\n"
          ]
        },
        {
          "output_type": "stream",
          "name": "stdout",
          "text": [
            "Epoch 900, MSE: 0.004331\n",
            "Test MSE: 0.000332\n",
            "Enter x1: 1\n",
            "Enter x2: 2\n",
            "Predicted Output: 0.650869\n"
          ]
        }
      ],
      "source": [
        "import numpy as np\n",
        "\n",
        "def sigmoid(x):\n",
        "    return 1 / (1 + np.exp(-x))\n",
        "\n",
        "def sigmoid_derivative(x):\n",
        "    return x * (1 - x)\n",
        "\n",
        "def train_ann(X, y, hidden_neurons=5, learning_rate=0.1, epochs=1000):\n",
        "    np.random.seed(42)\n",
        "    input_neurons = X.shape[1]\n",
        "    output_neurons = 1\n",
        "\n",
        "    W1 = np.random.rand(input_neurons, hidden_neurons)\n",
        "    b1 = np.random.rand(hidden_neurons)\n",
        "    W2 = np.random.rand(hidden_neurons, output_neurons)\n",
        "    b2 = np.random.rand(output_neurons)\n",
        "\n",
        "    for epoch in range(epochs):\n",
        "\n",
        "        hidden_input = np.dot(X, W1) + b1\n",
        "        hidden_output = sigmoid(hidden_input)\n",
        "        final_input = np.dot(hidden_output, W2) + b2\n",
        "        final_output = final_input\n",
        "\n",
        "        error = y - final_output\n",
        "        mse = np.mean(error**2)\n",
        "\n",
        "        d_output = -2 * error\n",
        "        d_W2 = np.dot(hidden_output.T, d_output)\n",
        "        d_b2 = np.sum(d_output, axis=0)\n",
        "\n",
        "        d_hidden = np.dot(d_output, W2.T) * sigmoid_derivative(hidden_output)\n",
        "        d_W1 = np.dot(X.T, d_hidden)\n",
        "        d_b1 = np.sum(d_hidden, axis=0)\n",
        "\n",
        "        W2 -= learning_rate * d_W2\n",
        "        b2 -= learning_rate * d_b2\n",
        "        W1 -= learning_rate * d_W1\n",
        "        b1 -= learning_rate * d_b1\n",
        "\n",
        "        if epoch % 100 == 0:\n",
        "            print(f\"Epoch {epoch}, MSE: {mse:.6f}\")\n",
        "\n",
        "    return W1, b1, W2, b2\n",
        "\n",
        "def predict_ann(X, W1, b1, W2, b2):\n",
        "    hidden_input = np.dot(X, W1) + b1\n",
        "    hidden_output = sigmoid(hidden_input)\n",
        "    final_input = np.dot(hidden_output, W2) + b2\n",
        "    final_output = final_input\n",
        "    return final_output\n",
        "\n",
        "X_train = np.array([[2, 0.4140], [3, 0.4611], [5, 0.5501], [6, 0.5656], [7, 0.5765], [8, 0.5840]])\n",
        "y_train = np.array([[0.4140], [0.4611], [0.5501], [0.5656], [0.5765], [0.5840]])\n",
        "\n",
        "W1, b1, W2, b2 = train_ann(X_train, y_train)\n",
        "\n",
        "X_test = np.array([[3, 4], [4, 5]])\n",
        "y_test = np.array([[0.4992], [0.5285]])\n",
        "\n",
        "y_pred = predict_ann(X_test, W1, b1, W2, b2)\n",
        "mse_test = np.mean((y_test - y_pred)**2)\n",
        "print(f\"Test MSE: {mse_test:.6f}\")\n",
        "\n",
        "x1 = float(input(\"Enter x1: \"))\n",
        "x2 = float(input(\"Enter x2: \"))\n",
        "X_new = np.array([[x1, x2]])\n",
        "y_new = predict_ann(X_new, W1, b1, W2, b2)\n",
        "print(f\"Predicted Output: {y_new[0][0]:.6f}\")\n"
      ]
    }
  ]
}